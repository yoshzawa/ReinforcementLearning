{
 "cells": [
  {
   "cell_type": "markdown",
   "metadata": {},
   "source": [
    "## ライブラリのインポート"
   ]
  },
  {
   "cell_type": "code",
   "execution_count": 73,
   "metadata": {},
   "outputs": [],
   "source": [
    "import math\n",
    "import copy\n",
    "import numpy as np\n",
    "import matplotlib.pyplot as plt\n",
    "%matplotlib inline\n",
    "import os\n",
    "os.environ[\"SDL_VIDEODRIVER\"] = \"dummy\"  # this line make pop-out window not appear\n",
    "from ple.games.flappybird import FlappyBird\n",
    "from ple import PLE\n",
    "from collections import defaultdict"
   ]
  },
  {
   "cell_type": "markdown",
   "metadata": {},
   "source": [
    "## アニメーションの作成"
   ]
  },
  {
   "cell_type": "code",
   "execution_count": 74,
   "metadata": {
    "collapsed": true
   },
   "outputs": [],
   "source": [
    "def make_anim(images, fps=60, true_image=False):\n",
    "    duration = len(images) / fps\n",
    "    import moviepy.editor as mpy\n",
    "\n",
    "    def make_frame(t):\n",
    "        try:\n",
    "            x = images[int(len(images) / duration * t)]\n",
    "        except:\n",
    "            x = images[-1]\n",
    "\n",
    "        if true_image:\n",
    "            return x.astype(np.uint8)\n",
    "        else:\n",
    "            return ((x + 1) / 2 * 255).astype(np.uint8)\n",
    "\n",
    "    clip = mpy.VideoClip(make_frame, duration=duration)\n",
    "    clip.fps = fps\n",
    "    return clip"
   ]
  },
  {
   "cell_type": "markdown",
   "metadata": {},
   "source": [
    "## グラフの作成"
   ]
  },
  {
   "cell_type": "code",
   "execution_count": 75,
   "metadata": {
    "collapsed": true
   },
   "outputs": [],
   "source": [
    "def make_graph(reward_per_epoch, lifetime_per_epoch):\n",
    "    fig, (axL, axR) = plt.subplots(ncols=2, figsize=(10,4))\n",
    "    axL.set_title('lifetime')\n",
    "    axL.grid(True)\n",
    "    axL.plot(lifetime_per_epoch)\n",
    "    axR.set_title('reward')\n",
    "    axR.grid(True)\n",
    "    axR.plot(reward_per_epoch)\n",
    "    fig.show()"
   ]
  },
  {
   "cell_type": "markdown",
   "metadata": {},
   "source": [
    "## 定数の宣言"
   ]
  },
  {
   "cell_type": "code",
   "execution_count": 76,
   "metadata": {
    "collapsed": true
   },
   "outputs": [],
   "source": [
    "ETA = 0.5\n",
    "GAMMA = 0.99\n",
    "GOAL_FRAME = 1200 # 目標フレーム数"
   ]
  },
  {
   "cell_type": "markdown",
   "metadata": {},
   "source": [
    "## Agentクラス"
   ]
  },
  {
   "cell_type": "code",
   "execution_count": 77,
   "metadata": {
    "collapsed": true
   },
   "outputs": [],
   "source": [
    "class Agent:\n",
    "    def __init__(self, num_actions):\n",
    "        self.brain = Brain(num_actions)\n",
    "    \n",
    "    def update_Q_function(self, state, action, reward, observation_prime):\n",
    "        self.brain.update_policy(state, action, reward, observation_prime)\n",
    "    \n",
    "    def get_action(self, state, episode):\n",
    "        action = self.brain.decide_action(state, episode)\n",
    "        return action"
   ]
  },
  {
   "cell_type": "markdown",
   "metadata": {},
   "source": [
    "## Brainクラス"
   ]
  },
  {
   "cell_type": "code",
   "execution_count": 78,
   "metadata": {
    "collapsed": true
   },
   "outputs": [],
   "source": [
    "bucket_range_per_feature = {\n",
    "  'next_next_pipe_bottom_y': 40,\n",
    "  'next_next_pipe_dist_to_player': 512,\n",
    "  'next_next_pipe_top_y': 40,\n",
    "  'next_pipe_bottom_y': 20,\n",
    "  'next_pipe_dist_to_player': 20,\n",
    "  'next_pipe_top_y': 20,\n",
    "  'player_vel': 4,\n",
    "  'player_y': 16\n",
    "}\n",
    "\n",
    "class Brain:\n",
    "    \n",
    "    def __init__(self, num_actions):\n",
    "        self.num_actions = num_actions\n",
    "        \n",
    "        self.q_table = defaultdict(lambda: np.zeros(num_actions))\n",
    "\n",
    "    def decide_action(self, state, episode):\n",
    "        # epsilon-greedy\n",
    "        state_idx = self.get_state_idx(state)\n",
    "        epsilon = 0.5 * (1 / (episode + 1))\n",
    "        if epsilon <= np.random.uniform(0, 1):\n",
    "            action = np.argmax(self.q_table[state_idx])  # Q値が最大の行動を選択する\n",
    "        else:\n",
    "            action = np.random.choice(self.num_actions)  # ランダムな行動を選択する\n",
    "        return action\n",
    "\n",
    "    def update_policy(self, state, action, reward, state_prime):\n",
    "        state_idx = self.get_state_idx(state)\n",
    "        state_prime_idx = self.get_state_idx(state_prime)\n",
    "        # Q学習を用いてQ値を更新する\n",
    "        best_q = np.max(self.q_table[state_prime_idx])\n",
    "        self.q_table[state_idx][action] += ETA * (\n",
    "            reward + GAMMA * best_q - self.q_table[state_idx][action])\n",
    "    \n",
    "    def get_state_idx(self, state):\n",
    "        # パイプの絶対位置の代わりに相対位置を使用する\n",
    "        state = copy.deepcopy(state)\n",
    "        state['next_next_pipe_bottom_y'] -= state['player_y']\n",
    "        state['next_next_pipe_top_y'] -= state['player_y']\n",
    "        state['next_pipe_bottom_y'] -= state['player_y']\n",
    "        state['next_pipe_top_y'] -= state['player_y']\n",
    "\n",
    "        # アルファベット順に並び替える\n",
    "        state_key = [k for k, v in sorted(state.items())]\n",
    "\n",
    "        # 相対位置を返す\n",
    "        state_idx = []\n",
    "        for key in state_key:\n",
    "            state_idx.append(int(state[key] / bucket_range_per_feature[key]))\n",
    "        return tuple(state_idx)\n",
    "        "
   ]
  },
  {
   "cell_type": "markdown",
   "metadata": {},
   "source": [
    "## Environmentクラス"
   ]
  },
  {
   "cell_type": "code",
   "execution_count": null,
   "metadata": {
    "collapsed": true
   },
   "outputs": [],
   "source": [
    "class Environment:\n",
    "    \n",
    "    def __init__(self, graph=True):\n",
    "        self.game = FlappyBird()\n",
    "        self.env = PLE(self.game, fps=30, display_screen=False)  # environment interface to game\n",
    "        #self.env = PLE(self.game, fps=30, display_screen=True)  # environment interface to game\n",
    "        self.num_actions = len(self.env.getActionSet())\n",
    "        self.agent = Agent(self.num_actions)\n",
    "        self.graph=graph\n",
    "    \n",
    "    def run(self):\n",
    "        \n",
    "        from IPython.display import Image, display\n",
    "\n",
    "        reward_per_epoch = []\n",
    "        lifetime_per_epoch = []\n",
    "        print_every_episode = 500\n",
    "        show_gif_every_episode = 5000\n",
    "        NUM_EPISODE = 50000\n",
    "        for episode in range(0, NUM_EPISODE):\n",
    "            # 環境のリセット\n",
    "            self.env.reset_game()\n",
    "            # record frame\n",
    "            frames = [self.env.getScreenRGB()]\n",
    "\n",
    "            # for every 500 episodes, shutdown exploration to see performance of greedy action\n",
    "            #if episode % print_every_episode == 0:\n",
    "            #    self.agent.shutdown_explore()\n",
    "\n",
    "            # 状態の初期化\n",
    "            state = self.game.getGameState()\n",
    "            cum_reward = 0  # このエピソードにおける累積報酬の和\n",
    "            t = 0\n",
    "\n",
    "            while not self.env.game_over():\n",
    "\n",
    "                # 行動の選択\n",
    "                action = self.agent.get_action(state, episode)\n",
    "\n",
    "                # 行動を実行し、報酬を得る\n",
    "                reward = self.env.act(\n",
    "                        self.env.getActionSet()[action])  # パイプを超えれば、reward +=1 失敗したら reward  -= 5\n",
    "\n",
    "                frames.append(self.env.getScreenRGB())\n",
    "\n",
    "                # 累積報酬\n",
    "                cum_reward += reward\n",
    "\n",
    "                # observe the result\n",
    "                state_prime = self.game.getGameState()  # 次状態を得る\n",
    "\n",
    "                # update agent\n",
    "                self.agent.update_Q_function(state, action, reward, state_prime)\n",
    "\n",
    "                # Setting up for the next iteration\n",
    "                state = state_prime\n",
    "                t += 1\n",
    "\n",
    "            # update exploring_rate and learning_rate\n",
    "            #self.agent.update_parameters(episode)\n",
    "\n",
    "            if episode % print_every_episode == 0:\n",
    "                print(\"Episode %d finished after %f time steps\" % (episode, t))\n",
    "                print(\"cumulated reward: %f\" % cum_reward)\n",
    "                reward_per_epoch.append(cum_reward)\n",
    "                lifetime_per_epoch.append(t)\n",
    "\n",
    "            # for every 5000 episode, record an animation\n",
    "            if episode % show_gif_every_episode == 0:\n",
    "                print(\"len frames:\", len(frames))\n",
    "                clip = make_anim(frames, fps=60, true_image=True).rotate(-90)\n",
    "                display(clip.ipython_display(fps=60, autoplay=1, loop=1))\n",
    "                if len(frames) > GOAL_FRAME:\n",
    "                    if self.graph == True:\n",
    "                        make_graph(reward_per_epoch, lifetime_per_epoch)\n",
    "                    break"
   ]
  },
  {
   "cell_type": "markdown",
   "metadata": {},
   "source": [
    "## Main関数"
   ]
  },
  {
   "cell_type": "code",
   "execution_count": null,
   "metadata": {},
   "outputs": [
    {
     "name": "stderr",
     "output_type": "stream",
     "text": [
      " 25%|██▍       | 15/61 [00:00<00:00, 146.62it/s]"
     ]
    },
    {
     "name": "stdout",
     "output_type": "stream",
     "text": [
      "Episode 0 finished after 59.000000 time steps\n",
      "cumulated reward: -5.000000\n",
      "len frames: 60\n"
     ]
    },
    {
     "name": "stderr",
     "output_type": "stream",
     "text": [
      " 98%|█████████▊| 60/61 [00:00<00:00, 206.84it/s]\n"
     ]
    },
    {
     "data": {
      "text/html": [
       "<div align=middle><video autoplay='1' loop='1'src='data:video/mp4;base64,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' controls>Sorry, seems like your browser doesn't support HTML5 audio/video</video></div>"
      ],
      "text/plain": [
       "<moviepy.video.io.html_tools.HTML2 object>"
      ]
     },
     "metadata": {},
     "output_type": "display_data"
    },
    {
     "name": "stdout",
     "output_type": "stream",
     "text": [
      "Episode 500 finished after 62.000000 time steps\n",
      "cumulated reward: -5.000000\n",
      "Episode 1000 finished after 62.000000 time steps\n",
      "cumulated reward: -5.000000\n",
      "Episode 1500 finished after 67.000000 time steps\n",
      "cumulated reward: -4.000000\n",
      "Episode 2000 finished after 59.000000 time steps\n",
      "cumulated reward: -5.000000\n",
      "Episode 2500 finished after 62.000000 time steps\n",
      "cumulated reward: -5.000000\n"
     ]
    }
   ],
   "source": [
    "flappybird_env = Environment()\n",
    "flappybird_env.run()"
   ]
  }
 ],
 "metadata": {
  "kernelspec": {
   "display_name": "Python 3",
   "language": "python",
   "name": "python3"
  },
  "language_info": {
   "codemirror_mode": {
    "name": "ipython",
    "version": 3
   },
   "file_extension": ".py",
   "mimetype": "text/x-python",
   "name": "python",
   "nbconvert_exporter": "python",
   "pygments_lexer": "ipython3",
   "version": "3.6.1"
  }
 },
 "nbformat": 4,
 "nbformat_minor": 2
}
