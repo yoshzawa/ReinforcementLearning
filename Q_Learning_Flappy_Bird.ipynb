{
 "cells": [
  {
   "cell_type": "markdown",
   "metadata": {},
   "source": [
    "## ライブラリのインポート"
   ]
  },
  {
   "cell_type": "code",
   "execution_count": null,
   "metadata": {
    "collapsed": true
   },
   "outputs": [],
   "source": [
    "import math\n",
    "import copy\n",
    "import numpy as np\n",
    "import matplotlib.pyplot as plt\n",
    "%matplotlib inline\n",
    "import os\n",
    "os.environ[\"SDL_VIDEODRIVER\"] = \"dummy\" \n",
    "from ple.games.flappybird import FlappyBird\n",
    "from ple import PLE\n",
    "from collections import defaultdict"
   ]
  },
  {
   "cell_type": "markdown",
   "metadata": {},
   "source": [
    "## アニメーションの作成"
   ]
  },
  {
   "cell_type": "code",
   "execution_count": null,
   "metadata": {
    "collapsed": true
   },
   "outputs": [],
   "source": [
    "def make_anim(images, fps=60, true_image=False):\n",
    "    duration = len(images) / fps\n",
    "    import moviepy.editor as mpy\n",
    "\n",
    "    def make_frame(t):\n",
    "        try:\n",
    "            x = images[int(len(images) / duration * t)]\n",
    "        except:\n",
    "            x = images[-1]\n",
    "\n",
    "        if true_image:\n",
    "            return x.astype(np.uint8)\n",
    "        else:\n",
    "            return ((x + 1) / 2 * 255).astype(np.uint8)\n",
    "\n",
    "    clip = mpy.VideoClip(make_frame, duration=duration)\n",
    "    clip.fps = fps\n",
    "    return clip"
   ]
  },
  {
   "cell_type": "markdown",
   "metadata": {},
   "source": [
    "## 定数の宣言"
   ]
  },
  {
   "cell_type": "code",
   "execution_count": null,
   "metadata": {
    "collapsed": true
   },
   "outputs": [],
   "source": [
    "MIN_EXPLORING_RATE = 0.01\n",
    "MIN_LEARNING_RATE = 0.5\n",
    "ETA = 0.5\n",
    "GAMMA = 0.99"
   ]
  },
  {
   "cell_type": "markdown",
   "metadata": {},
   "source": [
    "## Agentクラス"
   ]
  },
  {
   "cell_type": "code",
   "execution_count": null,
   "metadata": {
    "collapsed": true
   },
   "outputs": [],
   "source": [
    "class Agent:\n",
    "    def __init__(self, num_actions):\n",
    "        self.brain = Brain(num_actions)\n",
    "    \n",
    "    def update_Q_function(self, observation, action, reward, observation_next):\n",
    "        self.brain.update_policy(observation, action, reward, observation_next)\n",
    "    \n",
    "    def get_action(self, observation, episode):\n",
    "        action = self.brain.decide_action(observation, episode)\n",
    "        return action"
   ]
  },
  {
   "cell_type": "markdown",
   "metadata": {},
   "source": [
    "## Brainクラス"
   ]
  },
  {
   "cell_type": "code",
   "execution_count": null,
   "metadata": {
    "collapsed": true
   },
   "outputs": [],
   "source": [
    "bucket_range_per_feature = {\n",
    "  'next_next_pipe_bottom_y': 40,\n",
    "  'next_next_pipe_dist_to_player': 512,\n",
    "  'next_next_pipe_top_y': 40,\n",
    "  'next_pipe_bottom_y': 20,\n",
    "  'next_pipe_dist_to_player': 20,\n",
    "  'next_pipe_top_y': 20,\n",
    "  'player_vel': 4,\n",
    "  'player_y': 16\n",
    "}\n",
    "\n",
    "class Brain:\n",
    "    \n",
    "    def __init__(self, num_actions):\n",
    "        self.num_actions = num_actions\n",
    "        self.q_table = defaultdict(lambda: np.zeros(num_actions))\n",
    "\n",
    "    def decide_action(self, state, episode):\n",
    "        # ε-greedy\n",
    "        state_idx = self.get_state_idx(state) # 相対位置の取得\n",
    "        epsilon = 0.5 * (1 / (episode + 1))\n",
    "        if epsilon <= np.random.uniform(0, 1):\n",
    "            action = np.argmax(self.q_table[state_idx])  # Q値が最大の行動を選択する\n",
    "        else:\n",
    "            action = np.random.choice(self.num_actions)  # ランダムな行動を選択する\n",
    "        return action\n",
    "\n",
    "    def update_policy(self, state, action, reward, state_prime):\n",
    "        state_idx = self.get_state_idx(state)\n",
    "        state_prime_idx = self.get_state_idx(state_prime)\n",
    "        # Q学習を用いてQ値を更新する\n",
    "        best_q = np.max(self.q_table[state_prime_idx])\n",
    "        self.q_table[state_idx][action] += ETA * (\n",
    "            reward + GAMMA * best_q - self.q_table[state_idx][action])\n",
    "    \n",
    "    def get_state_idx(self, state):\n",
    "        # パイプの絶対位置の代わりに相対位置を使用する\n",
    "        state = copy.deepcopy(state)\n",
    "        state['next_next_pipe_bottom_y'] -= state['player_y']\n",
    "        state['next_next_pipe_top_y'] -= state['player_y']\n",
    "        state['next_pipe_bottom_y'] -= state['player_y']\n",
    "        state['next_pipe_top_y'] -= state['player_y']\n",
    "\n",
    "        # アルファベット順に並び替える\n",
    "        state_key = [k for k, v in sorted(state.items())]\n",
    "\n",
    "        # 相対位置を返す\n",
    "        state_idx = []\n",
    "        for key in state_key:\n",
    "            state_idx.append(int(state[key] / bucket_range_per_feature[key]))\n",
    "        return tuple(state_idx)\n",
    "        "
   ]
  },
  {
   "cell_type": "markdown",
   "metadata": {},
   "source": [
    "## Environmentクラス"
   ]
  },
  {
   "cell_type": "code",
   "execution_count": null,
   "metadata": {
    "collapsed": true
   },
   "outputs": [],
   "source": [
    "class Environment:\n",
    "    \n",
    "    def __init__(self):\n",
    "        self.game = FlappyBird()\n",
    "        self.env = PLE(self.game, fps=30, display_screen=False)\n",
    "        self.num_actions = len(self.env.getActionSet())\n",
    "        self.agent = Agent(self.num_actions)\n",
    "    \n",
    "    def run(self):\n",
    "        \n",
    "        from IPython.display import Image, display\n",
    "\n",
    "        reward_per_epoch = []\n",
    "        lifetime_per_epoch = []\n",
    "        exploring_rates = []\n",
    "        learning_rates = []\n",
    "        PRINT_EVERY_EPISODE = 500\n",
    "        SHOW_GIF_EVERY_EPISODE = 5000\n",
    "        NUM_EPISODE = 50000\n",
    "        for episode in range(0, NUM_EPISODE):\n",
    "            # 環境のリセット\n",
    "            self.env.reset_game()\n",
    "            # record frame\n",
    "            frames = [self.env.getScreenRGB()]\n",
    "\n",
    "            # 状態の初期化\n",
    "            state = self.game.getGameState()\n",
    "            cum_reward = 0  # このエピソードにおける累積報酬の和\n",
    "            t = 0\n",
    "\n",
    "            while not self.env.game_over():\n",
    "\n",
    "                # 行動の選択\n",
    "                action = self.agent.get_action(state, episode)\n",
    "\n",
    "                # 行動を実行し、報酬を得る\n",
    "                reward = self.env.act(\n",
    "                        self.env.getActionSet()[action])  # パイプを超えれば、reward +=1 失敗したら reward  -= 5\n",
    "\n",
    "                frames.append(self.env.getScreenRGB())\n",
    "\n",
    "                # 累積報酬\n",
    "                cum_reward += reward\n",
    "\n",
    "                # 次状態を得る\n",
    "                state_prime = self.game.getGameState() \n",
    "\n",
    "                # Agentの更新\n",
    "                self.agent.update_Q_function(state, action, reward, state_prime)\n",
    "\n",
    "                # 次のイテレーションの用意\n",
    "                state = state_prime\n",
    "                t += 1\n",
    "\n",
    "            # 500エピソード毎にlogを出力\n",
    "            if episode % PRINT_EVERY_EPISODE == 0:\n",
    "                print(\"Episode %d finished after %f time steps\" % (episode, t))\n",
    "                print(\"cumulated reward: %f\" % cum_reward)\n",
    "                reward_per_epoch.append(cum_reward)\n",
    "                lifetime_per_epoch.append(t)\n",
    "\n",
    "            # 5000エピソード毎にアニメーションを作成\n",
    "            if episode % SHOW_GIF_EVERY_EPISODE == 0:\n",
    "                print(\"len frames:\", len(frames))\n",
    "                clip = make_anim(frames, fps=60, true_image=True).rotate(-90)\n",
    "                display(clip.ipython_display(fps=60, autoplay=1, loop=1))"
   ]
  },
  {
   "cell_type": "markdown",
   "metadata": {},
   "source": [
    "## Main関数"
   ]
  },
  {
   "cell_type": "code",
   "execution_count": null,
   "metadata": {},
   "outputs": [],
   "source": [
    "flappybird_env = Environment()\n",
    "flappybird_env.run()"
   ]
  }
 ],
 "metadata": {
  "kernelspec": {
   "display_name": "Python 3",
   "language": "python",
   "name": "python3"
  },
  "language_info": {
   "codemirror_mode": {
    "name": "ipython",
    "version": 3
   },
   "file_extension": ".py",
   "mimetype": "text/x-python",
   "name": "python",
   "nbconvert_exporter": "python",
   "pygments_lexer": "ipython3",
   "version": "3.6.1"
  }
 },
 "nbformat": 4,
 "nbformat_minor": 2
}
